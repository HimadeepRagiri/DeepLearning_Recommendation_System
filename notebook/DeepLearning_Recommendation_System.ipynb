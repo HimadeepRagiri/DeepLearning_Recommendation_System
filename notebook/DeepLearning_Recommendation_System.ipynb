{
  "nbformat": 4,
  "nbformat_minor": 0,
  "metadata": {
    "colab": {
      "provenance": [],
      "gpuType": "V28"
    },
    "kernelspec": {
      "name": "python3",
      "display_name": "Python 3"
    },
    "language_info": {
      "name": "python"
    },
    "accelerator": "TPU"
  },
  "cells": [
    {
      "cell_type": "code",
      "execution_count": 1,
      "metadata": {
        "id": "4XDpL1U5YN6p"
      },
      "outputs": [],
      "source": [
        "# Import Necessary Libraries\n",
        "import numpy as np\n",
        "import pandas as pd\n",
        "import torch\n",
        "import torch.nn as nn\n",
        "import torch.optim as optim\n",
        "from torch.utils.data import DataLoader, Dataset\n",
        "from sklearn.model_selection import train_test_split\n",
        "from sklearn.preprocessing import LabelEncoder\n",
        "from tqdm import tqdm\n",
        "import matplotlib.pyplot as plt\n"
      ]
    },
    {
      "cell_type": "code",
      "source": [
        "# Load the Dataset\n",
        "def load_data():\n",
        "    ratings_path = \"/content/drive/MyDrive/Deep_Learning_Projects/recommender_system/ml-1m/ml-1m/ratings.dat\"\n",
        "    movies_path = \"/content/drive/MyDrive/Deep_Learning_Projects/recommender_system/ml-1m/ml-1m/movies.dat\"\n",
        "\n",
        "    # Load ratings.dat with specified encoding\n",
        "    ratings = pd.read_csv(ratings_path, sep=\"::\", engine=\"python\",\n",
        "                          names=[\"user_id\", \"movie_id\", \"rating\", \"timestamp\"], encoding='ISO-8859-1')\n",
        "\n",
        "    # Load movies.dat with specified encoding\n",
        "    movies = pd.read_csv(movies_path, sep=\"::\", engine=\"python\",\n",
        "                         names=[\"movie_id\", \"title\", \"genres\"], encoding='ISO-8859-1')\n",
        "\n",
        "    return ratings, movies\n"
      ],
      "metadata": {
        "id": "tMV6TmBZ20Z2"
      },
      "execution_count": 45,
      "outputs": []
    },
    {
      "cell_type": "code",
      "source": [
        "ratings, movies = load_data()\n",
        "print(\"Ratings Dataset:\\n\", ratings.head())\n",
        "print(\"\\nMovies Dataset:\\n\", movies.head())\n"
      ],
      "metadata": {
        "colab": {
          "base_uri": "https://localhost:8080/"
        },
        "id": "eghJvBI4g4L4",
        "outputId": "a303f60e-43d1-4e7e-90f1-4e688ba86c95"
      },
      "execution_count": 46,
      "outputs": [
        {
          "output_type": "stream",
          "name": "stdout",
          "text": [
            "Ratings Dataset:\n",
            "    user_id  movie_id  rating  timestamp\n",
            "0        1      1193       5  978300760\n",
            "1        1       661       3  978302109\n",
            "2        1       914       3  978301968\n",
            "3        1      3408       4  978300275\n",
            "4        1      2355       5  978824291\n",
            "\n",
            "Movies Dataset:\n",
            "    movie_id                               title                        genres\n",
            "0         1                    Toy Story (1995)   Animation|Children's|Comedy\n",
            "1         2                      Jumanji (1995)  Adventure|Children's|Fantasy\n",
            "2         3             Grumpier Old Men (1995)                Comedy|Romance\n",
            "3         4            Waiting to Exhale (1995)                  Comedy|Drama\n",
            "4         5  Father of the Bride Part II (1995)                        Comedy\n"
          ]
        }
      ]
    },
    {
      "cell_type": "code",
      "source": [
        "# Data Preprocessing\n",
        "def preprocess_data(ratings):\n",
        "    user_encoder = LabelEncoder()\n",
        "    movie_encoder = LabelEncoder()\n",
        "\n",
        "    # Encode user and movie IDs\n",
        "    ratings[\"user_id\"] = user_encoder.fit_transform(ratings[\"user_id\"])\n",
        "    ratings[\"movie_id\"] = movie_encoder.fit_transform(ratings[\"movie_id\"])\n",
        "\n",
        "    # Split into train, validation, and test sets\n",
        "    train_data, test_data = train_test_split(ratings, test_size=0.2, random_state=42)\n",
        "    val_data, test_data = train_test_split(test_data, test_size=0.5, random_state=42)\n",
        "\n",
        "    return train_data, val_data, test_data, user_encoder, movie_encoder\n"
      ],
      "metadata": {
        "id": "MettNZ_2YjKU"
      },
      "execution_count": 47,
      "outputs": []
    },
    {
      "cell_type": "code",
      "source": [
        "# Preprocess Ratings\n",
        "train_data, val_data, test_data, user_encoder, movie_encoder = preprocess_data(ratings)\n",
        "print(\"Train Data Sample:\\n\", train_data.head())\n"
      ],
      "metadata": {
        "colab": {
          "base_uri": "https://localhost:8080/"
        },
        "id": "V0ZSQPXkYjH9",
        "outputId": "6012333c-dfe5-4161-df2c-c6d2449e0eb8"
      },
      "execution_count": 48,
      "outputs": [
        {
          "output_type": "stream",
          "name": "stdout",
          "text": [
            "Train Data Sample:\n",
            "         user_id  movie_id  rating  timestamp\n",
            "416292     2506      2821       2  974076680\n",
            "683230     4086      2633       4  965431652\n",
            "2434         18       443       3  978146863\n",
            "688533     4117      2599       4  965804599\n",
            "472584     2906       759       4  971838472\n"
          ]
        }
      ]
    },
    {
      "cell_type": "code",
      "source": [
        "# Data Visualization\n",
        "def visualize_data(data):\n",
        "    plt.figure(figsize=(10, 5))\n",
        "    data[\"rating\"].value_counts().sort_index().plot(kind=\"bar\", color=\"skyblue\")\n",
        "    plt.title(\"Rating Distribution\")\n",
        "    plt.xlabel(\"Ratings\")\n",
        "    plt.ylabel(\"Count\")\n",
        "    plt.show()\n"
      ],
      "metadata": {
        "id": "8X2kansXY8Ro"
      },
      "execution_count": 49,
      "outputs": []
    },
    {
      "cell_type": "code",
      "source": [
        "# Visualize the Ratings\n",
        "visualize_data(ratings)\n"
      ],
      "metadata": {
        "colab": {
          "base_uri": "https://localhost:8080/",
          "height": 482
        },
        "id": "dRiGMoyDY8PB",
        "outputId": "36339f87-4e3a-4c4a-975e-d50877f0cc62"
      },
      "execution_count": 50,
      "outputs": [
        {
          "output_type": "display_data",
          "data": {
            "text/plain": [
              "<Figure size 1000x500 with 1 Axes>"
            ],
            "image/png": "[encoded data removed]"
          },
          "metadata": {}
        }
      ]
    },
    {
      "cell_type": "code",
      "source": [
        "# Dataset and DataLoader\n",
        "class MovieDataset(Dataset):\n",
        "    def __init__(self, data):\n",
        "        self.data = data\n",
        "\n",
        "    def __len__(self):\n",
        "        return len(self.data)\n",
        "\n",
        "    def __getitem__(self, idx):\n",
        "        user_id = self.data.iloc[idx][\"user_id\"]\n",
        "        movie_id = self.data.iloc[idx][\"movie_id\"]\n",
        "        rating = self.data.iloc[idx][\"rating\"]\n",
        "        return torch.tensor(user_id, dtype=torch.long), \\\n",
        "               torch.tensor(movie_id, dtype=torch.long), \\\n",
        "               torch.tensor(rating, dtype=torch.float)\n",
        "\n",
        "def create_dataloaders(train, val, test, batch_size=512):\n",
        "    train_dataset = MovieDataset(train)\n",
        "    val_dataset = MovieDataset(val)\n",
        "    test_dataset = MovieDataset(test)\n",
        "\n",
        "    train_loader = DataLoader(train_dataset, batch_size=batch_size, shuffle=True)\n",
        "    val_loader = DataLoader(val_dataset, batch_size=batch_size)\n",
        "    test_loader = DataLoader(test_dataset, batch_size=batch_size)\n",
        "\n",
        "    return train_loader, val_loader, test_loader\n"
      ],
      "metadata": {
        "id": "CnE_DbBAY8MO"
      },
      "execution_count": 51,
      "outputs": []
    },
    {
      "cell_type": "code",
      "source": [
        "# Prepare DataLoaders\n",
        "train_loader, val_loader, test_loader = create_dataloaders(train_data, val_data, test_data)\n"
      ],
      "metadata": {
        "id": "lN3H0W3vY8Jw"
      },
      "execution_count": 52,
      "outputs": []
    },
    {
      "cell_type": "code",
      "source": [
        "# Neural Matrix Factorization Model\n",
        "class RecommenderNet(nn.Module):\n",
        "    def __init__(self, num_users, num_movies, embedding_dim=50):\n",
        "        super(RecommenderNet, self).__init__()\n",
        "        self.user_embedding = nn.Embedding(num_users, embedding_dim)\n",
        "        self.movie_embedding = nn.Embedding(num_movies, embedding_dim)\n",
        "        self.fc = nn.Linear(embedding_dim, 1)\n",
        "\n",
        "    def forward(self, user_id, movie_id):\n",
        "        user_emb = self.user_embedding(user_id)\n",
        "        movie_emb = self.movie_embedding(movie_id)\n",
        "        interaction = user_emb * movie_emb\n",
        "        output = self.fc(interaction)\n",
        "        return output.squeeze()\n"
      ],
      "metadata": {
        "id": "rCmz4pAqY8HH"
      },
      "execution_count": 53,
      "outputs": []
    },
    {
      "cell_type": "code",
      "source": [
        "# Initialize Model\n",
        "num_users = ratings[\"user_id\"].nunique()\n",
        "num_movies = ratings[\"movie_id\"].nunique()\n",
        "\n",
        "model = RecommenderNet(num_users, num_movies)\n",
        "device = torch.device(\"cuda\" if torch.cuda.is_available() else \"cpu\")\n",
        "model.to(device)\n"
      ],
      "metadata": {
        "colab": {
          "base_uri": "https://localhost:8080/"
        },
        "id": "wfsTqH50iWnN",
        "outputId": "c8accb9e-2d25-4117-b734-ed82d117635d"
      },
      "execution_count": 54,
      "outputs": [
        {
          "output_type": "execute_result",
          "data": {
            "text/plain": [
              "RecommenderNet(\n",
              "  (user_embedding): Embedding(6040, 50)\n",
              "  (movie_embedding): Embedding(3706, 50)\n",
              "  (fc): Linear(in_features=50, out_features=1, bias=True)\n",
              ")"
            ]
          },
          "metadata": {},
          "execution_count": 54
        }
      ]
    },
    {
      "cell_type": "code",
      "source": [
        "# Checkpoint Functions\n",
        "def save_checkpoint(model, optimizer, epoch, checkpoint_path):\n",
        "    checkpoint = {\n",
        "        'epoch': epoch,\n",
        "        'model_state_dict': model.state_dict(),\n",
        "        'optimizer_state_dict': optimizer.state_dict()\n",
        "    }\n",
        "    checkpoint_filename = f\"{checkpoint_path}/checkpoint_epoch_{epoch+1}.pt\"\n",
        "    torch.save(checkpoint, checkpoint_filename)\n",
        "    print(f\"Checkpoint saved at {checkpoint_filename}\")\n",
        "\n",
        "def load_checkpoint(checkpoint_path, model, optimizer):\n",
        "    checkpoint = torch.load(checkpoint_path)\n",
        "    model.load_state_dict(checkpoint['model_state_dict'])\n",
        "    optimizer.load_state_dict(checkpoint['optimizer_state_dict'])\n",
        "    return checkpoint['epoch']\n"
      ],
      "metadata": {
        "id": "t63abRyKYjFA"
      },
      "execution_count": 55,
      "outputs": []
    },
    {
      "cell_type": "code",
      "source": [
        "# Training Function\n",
        "def train_model(model, train_loader, val_loader, epochs, optimizer, criterion, checkpoint_path):\n",
        "    for epoch in range(epochs):\n",
        "        model.train()\n",
        "        total_loss = 0\n",
        "        for user_id, movie_id, rating in tqdm(train_loader, desc=f\"Epoch {epoch + 1}/{epochs}\"):\n",
        "            user_id, movie_id, rating = user_id.to(device), movie_id.to(device), rating.to(device)\n",
        "            optimizer.zero_grad()\n",
        "            predictions = model(user_id, movie_id)\n",
        "            loss = criterion(predictions, rating)\n",
        "            loss.backward()\n",
        "            optimizer.step()\n",
        "            total_loss += loss.item()\n",
        "\n",
        "        print(f\"Epoch {epoch + 1}: Loss = {total_loss / len(train_loader)}\")\n",
        "        save_checkpoint(model, optimizer, epoch, checkpoint_path)\n"
      ],
      "metadata": {
        "id": "exLzYgikZ0ed"
      },
      "execution_count": 56,
      "outputs": []
    },
    {
      "cell_type": "code",
      "source": [
        "# Validation Function\n",
        "def validate_model(model, val_loader, criterion):\n",
        "    model.eval()\n",
        "    total_loss = 0\n",
        "\n",
        "    with torch.no_grad():\n",
        "        for user_id, movie_id, rating in val_loader:\n",
        "            user_id, movie_id, rating = user_id.to(device), movie_id.to(device), rating.to(device)\n",
        "\n",
        "            predictions = model(user_id, movie_id)\n",
        "            loss = criterion(predictions, rating)\n",
        "            total_loss += loss.item()\n",
        "\n",
        "    avg_val_loss = total_loss / len(val_loader)\n",
        "    return avg_val_loss\n"
      ],
      "metadata": {
        "id": "xvGYeiCGYjCU"
      },
      "execution_count": 68,
      "outputs": []
    },
    {
      "cell_type": "code",
      "source": [
        "# Test Function\n",
        "def test_model(model, test_loader, criterion):\n",
        "    model.eval()\n",
        "    total_loss = 0\n",
        "\n",
        "    with torch.no_grad():\n",
        "        for user_id, movie_id, rating in test_loader:\n",
        "            user_id, movie_id, rating = user_id.to(device), movie_id.to(device), rating.to(device)\n",
        "\n",
        "            predictions = model(user_id, movie_id)\n",
        "            loss = criterion(predictions, rating)\n",
        "            total_loss += loss.item()\n",
        "\n",
        "    avg_test_loss = total_loss / len(test_loader)\n",
        "    return avg_test_loss\n"
      ],
      "metadata": {
        "id": "eGi8ia9WZ9ct"
      },
      "execution_count": 69,
      "outputs": []
    },
    {
      "cell_type": "code",
      "source": [
        "# Initialize loss function and optimizer\n",
        "criterion = nn.MSELoss()\n",
        "optimizer = optim.Adam(model.parameters(), lr=0.001)\n",
        "checkpoint_path = \"/content/drive/MyDrive/Deep_Learning_Projects/recommender_system/checkpoints\"\n"
      ],
      "metadata": {
        "id": "jGosRtdVZ9aR"
      },
      "execution_count": 59,
      "outputs": []
    },
    {
      "cell_type": "code",
      "source": [
        "# Train model\n",
        "train_model(\n",
        "    model=model,\n",
        "    train_loader=train_loader,\n",
        "    val_loader=val_loader,\n",
        "    epochs=10,\n",
        "    optimizer=optimizer,\n",
        "    criterion=criterion,\n",
        "    checkpoint_path=checkpoint_path\n",
        ")\n"
      ],
      "metadata": {
        "id": "TChOBG2tfY5g"
      },
      "execution_count": null,
      "outputs": []
    },
    {
      "cell_type": "code",
      "source": [
        "# Validate model\n",
        "validation_loss = validate_model(model, val_loader, criterion)\n",
        "print(f\"Validation Loss: {validation_loss:.4f}\")\n"
      ],
      "metadata": {
        "colab": {
          "base_uri": "https://localhost:8080/"
        },
        "id": "n15DH4ggK2YC",
        "outputId": "e3544715-4953-460a-c4e1-08f3c2594692"
      },
      "execution_count": 70,
      "outputs": [
        {
          "output_type": "stream",
          "name": "stdout",
          "text": [
            "Validation Loss: 1.2041\n"
          ]
        }
      ]
    },
    {
      "cell_type": "code",
      "source": [
        "# Test model\n",
        "test_loss = test_model(model, test_loader, criterion)\n",
        "print(f\"Test Loss: {test_loss:.4f}\")\n"
      ],
      "metadata": {
        "colab": {
          "base_uri": "https://localhost:8080/"
        },
        "id": "RRh2S4WXZ9VP",
        "outputId": "e421be7d-ccb7-45a4-a672-86aa5276235f"
      },
      "execution_count": 71,
      "outputs": [
        {
          "output_type": "stream",
          "name": "stdout",
          "text": [
            "Test Loss: 1.1956\n"
          ]
        }
      ]
    },
    {
      "cell_type": "code",
      "source": [
        "# Recommendation Function\n",
        "def recommend_movies(model, user_id, movie_encoder, top_n=10, movies_df=None):\n",
        "    \"\"\"\n",
        "    Recommend movies for a given user based on predicted ratings.\n",
        "\n",
        "    Parameters:\n",
        "        model (torch.nn.Module): The trained recommendation model.\n",
        "        user_id (int): The ID of the user for whom to recommend movies.\n",
        "        movie_encoder (LabelEncoder): The encoder for movie IDs.\n",
        "        top_n (int): The number of top recommendations to return.\n",
        "        movies_df (pd.DataFrame): DataFrame containing the movie details.\n",
        "\n",
        "    Returns:\n",
        "        List of recommended movie titles.\n",
        "    \"\"\"\n",
        "    # Set the model to evaluation mode\n",
        "    model.eval()\n",
        "\n",
        "    # Generate predictions for all movies for the given user\n",
        "    movie_ids = torch.arange(0, len(movie_encoder.classes_)).to(device)\n",
        "    user_ids = torch.full_like(movie_ids, user_id, dtype=torch.long).to(device)\n",
        "\n",
        "    # Get predictions for all movies for this user\n",
        "    with torch.no_grad():\n",
        "        predicted_ratings = model(user_ids, movie_ids).cpu().numpy()\n",
        "\n",
        "    # Get the top N movie indices based on predicted ratings\n",
        "    top_movie_indices = predicted_ratings.argsort()[-top_n:][::-1]\n",
        "\n",
        "    # Get the movie ids from the movie_encoder\n",
        "    top_movie_ids = movie_encoder.inverse_transform(top_movie_indices)\n",
        "\n",
        "    # Retrieve movie titles from the movies dataframe using movie_ids\n",
        "    recommended_movie_titles = []\n",
        "    for movie_id in top_movie_ids:\n",
        "        movie_title = movies_df[movies_df[\"movie_id\"] == movie_id][\"title\"].values[0]\n",
        "        recommended_movie_titles.append(movie_title)\n",
        "\n",
        "    return recommended_movie_titles\n"
      ],
      "metadata": {
        "id": "kdYNfc6xMSVK"
      },
      "execution_count": 80,
      "outputs": []
    },
    {
      "cell_type": "code",
      "source": [
        "# Test the recommendations for user_id = 1\n",
        "user_id = 1\n",
        "recommended_movies = recommend_movies(model, user_id, movie_encoder, top_n=10, movies_df=movies)\n",
        "\n",
        "print(f\"Recommended Movies for User {user_id}:\")\n",
        "for movie in recommended_movies:\n",
        "    print(movie)\n"
      ],
      "metadata": {
        "colab": {
          "base_uri": "https://localhost:8080/"
        },
        "id": "ZesppXlvMXAR",
        "outputId": "57cb1771-348e-4fb9-9b7e-648cefbb494a"
      },
      "execution_count": 83,
      "outputs": [
        {
          "output_type": "stream",
          "name": "stdout",
          "text": [
            "Recommended Movies for User 1:\n",
            "1-900 (1994)\n",
            "Rent-a-Kid (1995)\n",
            "Angels and Insects (1995)\n",
            "Metro (1997)\n",
            "Computer Wore Tennis Shoes, The (1970)\n",
            "Hairspray (1988)\n",
            "Gods Must Be Crazy II, The (1989)\n",
            "Lady of Burlesque (1943)\n",
            "Make Them Die Slowly (Cannibal Ferox) (1980)\n",
            "Kingpin (1996)\n"
          ]
        }
      ]
    },
    {
      "cell_type": "code",
      "source": [],
      "metadata": {
        "id": "V6KgnHdjMWcU"
      },
      "execution_count": null,
      "outputs": []
    }
  ]
}